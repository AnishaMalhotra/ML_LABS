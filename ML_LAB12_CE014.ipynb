{
  "nbformat": 4,
  "nbformat_minor": 0,
  "metadata": {
    "colab": {
      "provenance": [],
      "authorship_tag": "ABX9TyPufF2rOnr/Ft26YVGgr6kb",
      "include_colab_link": true
    },
    "kernelspec": {
      "name": "python3",
      "display_name": "Python 3"
    },
    "language_info": {
      "name": "python"
    }
  },
  "cells": [
    {
      "cell_type": "markdown",
      "metadata": {
        "id": "view-in-github",
        "colab_type": "text"
      },
      "source": [
        "<a href=\"https://colab.research.google.com/github/AnishaMalhotra/ML_LABS/blob/main/ML_LAB12_CE014.ipynb\" target=\"_parent\"><img src=\"https://colab.research.google.com/assets/colab-badge.svg\" alt=\"Open In Colab\"/></a>"
      ]
    },
    {
      "cell_type": "code",
      "execution_count": 1,
      "metadata": {
        "id": "xEv5CTJxuZE9"
      },
      "outputs": [],
      "source": [
        "import pandas as pd\n",
        "import numpy as np\n",
        "import tensorflow as tf\n",
        "import matplotlib.pyplot as plt"
      ]
    },
    {
      "cell_type": "code",
      "source": [
        "import torch\n",
        "import torch.nn as nn\n",
        "from torch.autograd import Variable\n",
        "from torch.utils.data import DataLoader"
      ],
      "metadata": {
        "id": "RDsdxNAWvZQz"
      },
      "execution_count": 2,
      "outputs": []
    },
    {
      "cell_type": "code",
      "source": [
        "from tensorflow.keras.datasets import mnist\n",
        "\n",
        "(X_train, y_train), (X_test, y_test) = mnist.load_data()\n",
        "type(X_train), len(X_train), len(X_test), len(y_train)\n",
        "     "
      ],
      "metadata": {
        "colab": {
          "base_uri": "https://localhost:8080/"
        },
        "id": "CPNek0JDvfeL",
        "outputId": "53d2164c-90fc-41e7-da46-6b055b42ed15"
      },
      "execution_count": 4,
      "outputs": [
        {
          "output_type": "execute_result",
          "data": {
            "text/plain": [
              "(numpy.ndarray, 60000, 10000, 60000)"
            ]
          },
          "metadata": {},
          "execution_count": 4
        }
      ]
    },
    {
      "cell_type": "code",
      "source": [
        "#converting data to float format\n",
        "X_train = X_train.astype(dtype=np.float32)\n",
        "X_test = X_test.astype(dtype=np.float32)"
      ],
      "metadata": {
        "id": "r31PfdqEvjR_"
      },
      "execution_count": 5,
      "outputs": []
    },
    {
      "cell_type": "code",
      "source": [
        "X_train.shape, X_test.shape, y_train.shape, y_test.shape\n"
      ],
      "metadata": {
        "colab": {
          "base_uri": "https://localhost:8080/"
        },
        "id": "aOevyQpRvlxD",
        "outputId": "801f0d35-3a0d-4995-d160-b2282ac304b3"
      },
      "execution_count": 6,
      "outputs": [
        {
          "output_type": "execute_result",
          "data": {
            "text/plain": [
              "((60000, 28, 28), (10000, 28, 28), (60000,), (10000,))"
            ]
          },
          "metadata": {},
          "execution_count": 6
        }
      ]
    },
    {
      "cell_type": "code",
      "source": [
        "#flatten images of 28*28 to add to network\n",
        "\n",
        "X_train = X_train.reshape((X_train.shape[0], -1))\n",
        "X_test = X_test.reshape((X_test.shape[0], -1))\n",
        "X_train.shape, X_test.shape"
      ],
      "metadata": {
        "colab": {
          "base_uri": "https://localhost:8080/"
        },
        "id": "hQtR42dIvtXS",
        "outputId": "6d54defb-d765-4787-a9f3-80efc0c55f08"
      },
      "execution_count": 7,
      "outputs": [
        {
          "output_type": "execute_result",
          "data": {
            "text/plain": [
              "((60000, 784), (10000, 784))"
            ]
          },
          "metadata": {},
          "execution_count": 7
        }
      ]
    },
    {
      "cell_type": "code",
      "source": [
        "#convert input into range of 0-1\n",
        "#normalize\n",
        "\n",
        "X_train = X_train / 255.0\n",
        "X_test = X_test / 255.0\n",
        "X_train"
      ],
      "metadata": {
        "colab": {
          "base_uri": "https://localhost:8080/"
        },
        "id": "exuGVju-vxCW",
        "outputId": "72f42adb-6fe8-4986-8c27-65dbe563a014"
      },
      "execution_count": 8,
      "outputs": [
        {
          "output_type": "execute_result",
          "data": {
            "text/plain": [
              "array([[0., 0., 0., ..., 0., 0., 0.],\n",
              "       [0., 0., 0., ..., 0., 0., 0.],\n",
              "       [0., 0., 0., ..., 0., 0., 0.],\n",
              "       ...,\n",
              "       [0., 0., 0., ..., 0., 0., 0.],\n",
              "       [0., 0., 0., ..., 0., 0., 0.],\n",
              "       [0., 0., 0., ..., 0., 0., 0.]], dtype=float32)"
            ]
          },
          "metadata": {},
          "execution_count": 8
        }
      ]
    },
    {
      "cell_type": "code",
      "source": [
        "#tensors for features and targets\n",
        "\n",
        "X_train_data = torch.from_numpy(X_train)\n",
        "X_test_data = torch.from_numpy(X_test)\n",
        "y_train_data = torch.from_numpy(y_train)\n",
        "y_test_data = torch.from_numpy(y_test)\n",
        "\n",
        "X_train_data.shape, y_train_data.shape"
      ],
      "metadata": {
        "colab": {
          "base_uri": "https://localhost:8080/"
        },
        "id": "NsAL2M_8v1Ms",
        "outputId": "812abee5-ad84-4664-8850-0a2cb6f9ba61"
      },
      "execution_count": 9,
      "outputs": [
        {
          "output_type": "execute_result",
          "data": {
            "text/plain": [
              "(torch.Size([60000, 784]), torch.Size([60000]))"
            ]
          },
          "metadata": {},
          "execution_count": 9
        }
      ]
    },
    {
      "cell_type": "code",
      "source": [
        "#initializing model parameters\n",
        "\n",
        "batch_size = 32 #@param {type: \"number\"}\n",
        "iterations = 10000 #@param {type: \"number\"}\n",
        "epochs = iterations / (len(X_train) / batch_size)\n",
        "epochs = int(epochs)\n",
        "epochs"
      ],
      "metadata": {
        "colab": {
          "base_uri": "https://localhost:8080/"
        },
        "id": "bj21S-frv1Yu",
        "outputId": "6b4e55cb-f3e4-40ff-eac6-b5e1625ca645"
      },
      "execution_count": 10,
      "outputs": [
        {
          "output_type": "execute_result",
          "data": {
            "text/plain": [
              "5"
            ]
          },
          "metadata": {},
          "execution_count": 10
        }
      ]
    },
    {
      "cell_type": "code",
      "source": [
        "#loading in parts using dataloader\n",
        "\n",
        "dataloader = DataLoader(dataset=X_train_data, batch_size=batch_size, shuffle=False)\n",
        "outputloader = DataLoader(dataset=y_train_data, batch_size=batch_size, shuffle=False)\n",
        "testloader = DataLoader(dataset=X_test_data, batch_size=batch_size, shuffle=False)\n",
        "testoploader = DataLoader(dataset=y_test_data, batch_size=batch_size, shuffle=False)"
      ],
      "metadata": {
        "id": "yRHYnLYjv1b1"
      },
      "execution_count": 11,
      "outputs": []
    },
    {
      "cell_type": "code",
      "source": [
        "def image_display(arr):\n",
        "    arr = arr.cpu().detach().numpy()\n",
        "    arr = arr.reshape(28, 28)\n",
        "    plt.imshow(arr)"
      ],
      "metadata": {
        "id": "nPQftGbHv1ek"
      },
      "execution_count": 12,
      "outputs": []
    },
    {
      "cell_type": "code",
      "source": [
        "image_display(X_train_data[0])\n"
      ],
      "metadata": {
        "colab": {
          "base_uri": "https://localhost:8080/",
          "height": 430
        },
        "id": "5ZRdKjFDv1iF",
        "outputId": "4558d9b5-b83a-4077-880d-9d054a3a9554"
      },
      "execution_count": 13,
      "outputs": [
        {
          "output_type": "display_data",
          "data": {
            "text/plain": [
              "<Figure size 640x480 with 1 Axes>"
            ],
            "image/png": "[encoded data removed]"
          },
          "metadata": {}
        }
      ]
    },
    {
      "cell_type": "markdown",
      "source": [
        "MODEL - \n"
      ],
      "metadata": {
        "id": "st-swAEpwG0P"
      }
    },
    {
      "cell_type": "code",
      "source": [
        "#creating the model\n",
        "\n",
        "class ANNModel(nn.Module):\n",
        "    def __init__(self, input, hidden, output):\n",
        "        super(ANNModel, self).__init__()\n",
        "        self.linear1 = nn.Linear(input, hidden)\n",
        "        self.linear2 = nn.Linear(hidden, output)\n",
        "    def forward(self, X):\n",
        "        X = X.view(-1, 28*28)\n",
        "        X = torch.sigmoid(self.linear1(X))\n",
        "        X = self.linear2(X)\n",
        "        return X"
      ],
      "metadata": {
        "id": "iftSb6N3wHHp"
      },
      "execution_count": 14,
      "outputs": []
    },
    {
      "cell_type": "code",
      "source": [
        "input_dim = (28 * 28)\n",
        "hidden_dim = (28 * 10)\n",
        "output_dim = 10\n",
        "\n",
        "model = ANNModel(input_dim, hidden_dim, output_dim)\n",
        "\n",
        "model.parameters"
      ],
      "metadata": {
        "colab": {
          "base_uri": "https://localhost:8080/"
        },
        "id": "c-XwsSZWwJzi",
        "outputId": "e91f00f5-b172-4524-e8ca-4b045f33afbd"
      },
      "execution_count": 15,
      "outputs": [
        {
          "output_type": "execute_result",
          "data": {
            "text/plain": [
              "<bound method Module.parameters of ANNModel(\n",
              "  (linear1): Linear(in_features=784, out_features=280, bias=True)\n",
              "  (linear2): Linear(in_features=280, out_features=10, bias=True)\n",
              ")>"
            ]
          },
          "metadata": {},
          "execution_count": 15
        }
      ]
    },
    {
      "cell_type": "code",
      "source": [
        "criterion = nn.CrossEntropyLoss()\n",
        "learning_rate = 0.02 #@param {type: \"number\"}\n",
        "optimizer = torch.optim.SGD(model.parameters(), lr=learning_rate)"
      ],
      "metadata": {
        "id": "1sS_AE3QwNOe"
      },
      "execution_count": 16,
      "outputs": []
    },
    {
      "cell_type": "code",
      "source": [
        "#training the model\n",
        "\n",
        "count = 0\n",
        "loss_list = []\n",
        "iteration_list = []\n",
        "accuracy_list = []\n",
        "\n",
        "for epoch in range(epochs):\n",
        "    for i, j in zip(dataloader, outputloader):\n",
        "        optimizer.zero_grad()\n",
        "        train = Variable(i)\n",
        "        labels = Variable(j)\n",
        "        predictions = model(train)\n",
        "        loss = nn.functional.cross_entropy(predictions, labels)\n",
        "        count += 1\n",
        "        loss.backward()\n",
        "        optimizer.step()\n",
        "        if count % 1000 == 0:\n",
        "            correct = 0\n",
        "            total = 0\n",
        "            with torch.no_grad():\n",
        "              for ti, tj in zip(dataloader, outputloader):\n",
        "                test = Variable(ti)\n",
        "                testop = Variable(tj)\n",
        "                predictions = model(test)\n",
        "                _, predicted = torch.max(predictions.data, 1)\n",
        "                total += testop.size(0)\n",
        "                correct += (predicted == testop).sum().item()\n",
        "            accuracy = 100 * correct / total\n",
        "            accuracy_list.append(accuracy)\n",
        "            print(\"Loss ... \", loss)\n",
        "            print(\"Accuracy ... \\n\", accuracy)\n",
        "            loss_list.append(loss.item())\n",
        "            iteration_list.append(count)"
      ],
      "metadata": {
        "colab": {
          "base_uri": "https://localhost:8080/"
        },
        "id": "Vc70pBJYwSte",
        "outputId": "6181e10b-9fc0-40d7-a594-4cb166820811"
      },
      "execution_count": 17,
      "outputs": [
        {
          "output_type": "stream",
          "name": "stdout",
          "text": [
            "Loss ...  tensor(1.1964, grad_fn=<NllLossBackward0>)\n",
            "Accuracy ... \n",
            " 76.45166666666667\n",
            "Loss ...  tensor(0.6439, grad_fn=<NllLossBackward0>)\n",
            "Accuracy ... \n",
            " 84.00833333333334\n",
            "Loss ...  tensor(0.5797, grad_fn=<NllLossBackward0>)\n",
            "Accuracy ... \n",
            " 86.72666666666667\n",
            "Loss ...  tensor(0.4841, grad_fn=<NllLossBackward0>)\n",
            "Accuracy ... \n",
            " 88.19666666666667\n",
            "Loss ...  tensor(0.4537, grad_fn=<NllLossBackward0>)\n",
            "Accuracy ... \n",
            " 89.08166666666666\n",
            "Loss ...  tensor(0.3563, grad_fn=<NllLossBackward0>)\n",
            "Accuracy ... \n",
            " 89.20833333333333\n",
            "Loss ...  tensor(0.3792, grad_fn=<NllLossBackward0>)\n",
            "Accuracy ... \n",
            " 89.84333333333333\n",
            "Loss ...  tensor(0.4435, grad_fn=<NllLossBackward0>)\n",
            "Accuracy ... \n",
            " 90.055\n",
            "Loss ...  tensor(0.1839, grad_fn=<NllLossBackward0>)\n",
            "Accuracy ... \n",
            " 90.29333333333334\n"
          ]
        }
      ]
    },
    {
      "cell_type": "code",
      "source": [
        "plt.plot(iteration_list, loss_list)\n",
        "plt.show()"
      ],
      "metadata": {
        "colab": {
          "base_uri": "https://localhost:8080/",
          "height": 430
        },
        "id": "eL4dhwh8wVnt",
        "outputId": "de445388-0752-4de7-b1ca-331ffcee376c"
      },
      "execution_count": 18,
      "outputs": [
        {
          "output_type": "display_data",
          "data": {
            "text/plain": [
              "<Figure size 640x480 with 1 Axes>"
            ],
            "image/png": "[encoded data removed]"
          },
          "metadata": {}
        }
      ]
    }
  ]
}